{
 "cells": [
  {
   "cell_type": "markdown",
   "id": "53c0e8b3",
   "metadata": {},
   "source": [
    "# Strategy Performance Dashboard\n",
    "Interactive evaluation of signals and trading strategy."
   ]
  },
  {
   "cell_type": "markdown",
   "id": "67478f56",
   "metadata": {},
   "source": [
    "## 1. Load Signal Log"
   ]
  },
  {
   "cell_type": "code",
   "execution_count": 18,
   "id": "301d84ee",
   "metadata": {},
   "outputs": [
    {
     "data": {
      "application/vnd.microsoft.datawrangler.viewer.v0+json": {
       "columns": [
        {
         "name": "index",
         "rawType": "int64",
         "type": "integer"
        },
        {
         "name": "time",
         "rawType": "datetime64[ns]",
         "type": "datetime"
        },
        {
         "name": "close",
         "rawType": "float64",
         "type": "float"
        },
        {
         "name": "rsi_14",
         "rawType": "float64",
         "type": "float"
        },
        {
         "name": "signal",
         "rawType": "int64",
         "type": "integer"
        }
       ],
       "conversionMethod": "pd.DataFrame",
       "ref": "9402c71d-a379-463c-acfb-ec112b6030a8",
       "rows": [
        [
         "6",
         "2025-06-05 03:50:00",
         "318.09",
         "41.71220400728585",
         "0"
        ],
        [
         "7",
         "2025-06-05 03:55:00",
         "317.81",
         "36.52802893309235",
         "0"
        ],
        [
         "8",
         "2025-06-05 04:00:00",
         "318.08",
         "44.29824561403481",
         "0"
        ],
        [
         "9",
         "2025-06-05 04:05:00",
         "317.9",
         "47.41784037558659",
         "0"
        ],
        [
         "10",
         "2025-06-05 04:10:00",
         "317.91",
         "56.511627906976585",
         "0"
        ]
       ],
       "shape": {
        "columns": 4,
        "rows": 5
       }
      },
      "text/html": [
       "<div>\n",
       "<style scoped>\n",
       "    .dataframe tbody tr th:only-of-type {\n",
       "        vertical-align: middle;\n",
       "    }\n",
       "\n",
       "    .dataframe tbody tr th {\n",
       "        vertical-align: top;\n",
       "    }\n",
       "\n",
       "    .dataframe thead th {\n",
       "        text-align: right;\n",
       "    }\n",
       "</style>\n",
       "<table border=\"1\" class=\"dataframe\">\n",
       "  <thead>\n",
       "    <tr style=\"text-align: right;\">\n",
       "      <th></th>\n",
       "      <th>time</th>\n",
       "      <th>close</th>\n",
       "      <th>rsi_14</th>\n",
       "      <th>signal</th>\n",
       "    </tr>\n",
       "  </thead>\n",
       "  <tbody>\n",
       "    <tr>\n",
       "      <th>6</th>\n",
       "      <td>2025-06-05 03:50:00</td>\n",
       "      <td>318.09</td>\n",
       "      <td>41.712204</td>\n",
       "      <td>0</td>\n",
       "    </tr>\n",
       "    <tr>\n",
       "      <th>7</th>\n",
       "      <td>2025-06-05 03:55:00</td>\n",
       "      <td>317.81</td>\n",
       "      <td>36.528029</td>\n",
       "      <td>0</td>\n",
       "    </tr>\n",
       "    <tr>\n",
       "      <th>8</th>\n",
       "      <td>2025-06-05 04:00:00</td>\n",
       "      <td>318.08</td>\n",
       "      <td>44.298246</td>\n",
       "      <td>0</td>\n",
       "    </tr>\n",
       "    <tr>\n",
       "      <th>9</th>\n",
       "      <td>2025-06-05 04:05:00</td>\n",
       "      <td>317.90</td>\n",
       "      <td>47.417840</td>\n",
       "      <td>0</td>\n",
       "    </tr>\n",
       "    <tr>\n",
       "      <th>10</th>\n",
       "      <td>2025-06-05 04:10:00</td>\n",
       "      <td>317.91</td>\n",
       "      <td>56.511628</td>\n",
       "      <td>0</td>\n",
       "    </tr>\n",
       "  </tbody>\n",
       "</table>\n",
       "</div>"
      ],
      "text/plain": [
       "                  time   close     rsi_14  signal\n",
       "6  2025-06-05 03:50:00  318.09  41.712204       0\n",
       "7  2025-06-05 03:55:00  317.81  36.528029       0\n",
       "8  2025-06-05 04:00:00  318.08  44.298246       0\n",
       "9  2025-06-05 04:05:00  317.90  47.417840       0\n",
       "10 2025-06-05 04:10:00  317.91  56.511628       0"
      ]
     },
     "execution_count": 18,
     "metadata": {},
     "output_type": "execute_result"
    }
   ],
   "source": [
    "import pandas as pd\n",
    "import numpy as np\n",
    "\n",
    "df = pd.read_csv(\"../logs/signals.csv\", parse_dates=[\"time\"])\n",
    "df = df.sort_values(\"time\")\n",
    "df.tail()"
   ]
  },
  {
   "cell_type": "markdown",
   "id": "e3958251",
   "metadata": {},
   "source": [
    "## 2. Define Future Returns and True Actions"
   ]
  },
  {
   "cell_type": "code",
   "execution_count": 19,
   "id": "cb97c0f8",
   "metadata": {},
   "outputs": [],
   "source": [
    "df[\"future_return\"] = df[\"close\"].pct_change().shift(-1)\n",
    "df[\"true_action\"] = 0\n",
    "df.loc[df[\"future_return\"] > 0.001, \"true_action\"] = 1\n",
    "df.loc[df[\"future_return\"] < -0.001, \"true_action\"] = -1\n",
    "df[\"correct\"] = df[\"signal\"] == df[\"true_action\"]\n"
   ]
  },
  {
   "cell_type": "markdown",
   "id": "c5f9eeff",
   "metadata": {},
   "source": [
    "## 3. Classification Report & Metrics"
   ]
  },
  {
   "cell_type": "code",
   "execution_count": 22,
   "id": "7f289d21",
   "metadata": {},
   "outputs": [
    {
     "name": "stdout",
     "output_type": "stream",
     "text": [
      "              precision    recall  f1-score   support\n",
      "\n",
      "           1       0.00      0.00      0.00         1\n",
      "           0       0.70      1.00      0.82         7\n",
      "          -1       1.00      0.33      0.50         3\n",
      "\n",
      "    accuracy                           0.73        11\n",
      "   macro avg       0.57      0.44      0.44        11\n",
      "weighted avg       0.72      0.73      0.66        11\n",
      "\n"
     ]
    }
   ],
   "source": [
    "from sklearn.metrics import classification_report\n",
    "\n",
    "print(classification_report(df[\"true_action\"], df[\"signal\"], labels=[1, 0, -1], zero_division=0))\n"
   ]
  },
  {
   "cell_type": "markdown",
   "id": "bfb9b1d9",
   "metadata": {},
   "source": [
    "## 4. Confusion Matrix Visualization"
   ]
  },
  {
   "cell_type": "code",
   "execution_count": 23,
   "id": "eafdde1c",
   "metadata": {},
   "outputs": [
    {
     "data": {
      "image/png": "[encoded data removed]",
      "text/plain": [
       "<Figure size 600x500 with 2 Axes>"
      ]
     },
     "metadata": {},
     "output_type": "display_data"
    }
   ],
   "source": [
    "import seaborn as sns\n",
    "import matplotlib.pyplot as plt\n",
    "from sklearn.metrics import confusion_matrix\n",
    "\n",
    "cm = confusion_matrix(df[\"true_action\"], df[\"signal\"], labels=[1, 0, -1])\n",
    "labels = [1, 0, -1]\n",
    "\n",
    "plt.figure(figsize=(6, 5))\n",
    "sns.heatmap(cm, annot=True, fmt=\"d\", cmap=\"Blues\", xticklabels=labels, yticklabels=labels)\n",
    "plt.xlabel(\"Predicted\")\n",
    "plt.ylabel(\"Actual\")\n",
    "plt.title(\"Confusion Matrix\")\n",
    "plt.show()\n"
   ]
  },
  {
   "cell_type": "markdown",
   "id": "7626b99c",
   "metadata": {},
   "source": [
    "## 5. Plot Rolling Strategy Accuracy"
   ]
  },
  {
   "cell_type": "code",
   "execution_count": null,
   "id": "3a59c2bb",
   "metadata": {},
   "outputs": [],
   "source": []
  },
  {
   "cell_type": "code",
   "execution_count": 24,
   "id": "52c447bc",
   "metadata": {},
   "outputs": [
    {
     "data": {
      "text/plain": [
       "<Axes: title={'center': 'Rolling Accuracy (window=50)'}, xlabel='time'>"
      ]
     },
     "execution_count": 24,
     "metadata": {},
     "output_type": "execute_result"
    },
    {
     "data": {
      "image/png": "[encoded data removed]",
      "text/plain": [
       "<Figure size 1000x400 with 1 Axes>"
      ]
     },
     "metadata": {},
     "output_type": "display_data"
    }
   ],
   "source": [
    "df[\"rolling_accuracy\"] = df[\"correct\"].rolling(50).mean()\n",
    "df[df[\"time\"] >= \"2018-01-01\"][[\"time\", \"rolling_accuracy\"]].plot(x=\"time\", title=\"Rolling Accuracy (window=50)\", figsize=(10, 4))\n"
   ]
  },
  {
   "cell_type": "markdown",
   "id": "cb212c8f",
   "metadata": {},
   "source": [
    "## 6. Cumulative Strategy Return Simulation"
   ]
  },
  {
   "cell_type": "code",
   "execution_count": 25,
   "id": "c66337b6",
   "metadata": {},
   "outputs": [
    {
     "data": {
      "text/plain": [
       "<Axes: title={'center': 'Cumulative Return: Strategy vs Market'}, xlabel='time'>"
      ]
     },
     "execution_count": 25,
     "metadata": {},
     "output_type": "execute_result"
    },
    {
     "data": {
      "image/png": "[encoded data removed]",
      "text/plain": [
       "<Figure size 1000x400 with 1 Axes>"
      ]
     },
     "metadata": {},
     "output_type": "display_data"
    }
   ],
   "source": [
    "df[\"strategy_return\"] = df[\"future_return\"] * df[\"signal\"].shift(1)\n",
    "df[\"cumulative_strategy\"] = (1 + df[\"strategy_return\"]).cumprod()\n",
    "df[\"cumulative_market\"] = (1 + df[\"future_return\"]).cumprod()\n",
    "\n",
    "df.set_index(\"time\")[[\"cumulative_strategy\", \"cumulative_market\"]].plot(title=\"Cumulative Return: Strategy vs Market\", figsize=(10, 4))\n"
   ]
  },
  {
   "cell_type": "markdown",
   "id": "aa276256",
   "metadata": {},
   "source": [
    "## 7. Profit Per Trade Distribution"
   ]
  },
  {
   "cell_type": "code",
   "execution_count": 26,
   "id": "b5e47b83",
   "metadata": {},
   "outputs": [
    {
     "data": {
      "text/plain": [
       "Text(0.5, 1.0, 'Strategy Return per Signal')"
      ]
     },
     "execution_count": 26,
     "metadata": {},
     "output_type": "execute_result"
    },
    {
     "data": {
      "image/png": "[encoded data removed]",
      "text/plain": [
       "<Figure size 800x400 with 1 Axes>"
      ]
     },
     "metadata": {},
     "output_type": "display_data"
    }
   ],
   "source": [
    "profits = df.loc[df[\"signal\"] != 0, \"strategy_return\"]\n",
    "ax = profits.hist(bins=50, figsize=(8, 4))\n",
    "plt.title(\"Strategy Return per Signal\")\n"
   ]
  },
  {
   "cell_type": "markdown",
   "id": "888933af",
   "metadata": {},
   "source": [
    "## 8. Optional: Export Summary Stats"
   ]
  },
  {
   "cell_type": "code",
   "execution_count": 27,
   "id": "709133b7",
   "metadata": {},
   "outputs": [
    {
     "data": {
      "application/vnd.microsoft.datawrangler.viewer.v0+json": {
       "columns": [
        {
         "name": "index",
         "rawType": "int64",
         "type": "integer"
        },
        {
         "name": "accuracy",
         "rawType": "float64",
         "type": "float"
        },
        {
         "name": "total_signals",
         "rawType": "int64",
         "type": "integer"
        },
        {
         "name": "profitable_signals",
         "rawType": "int64",
         "type": "integer"
        },
        {
         "name": "mean_profit_per_trade",
         "rawType": "float64",
         "type": "float"
        }
       ],
       "conversionMethod": "pd.DataFrame",
       "ref": "b3967861-42e0-4392-9a49-b6917e2bbffa",
       "rows": [
        [
         "0",
         "0.7272727272727273",
         "1",
         "0",
         null
        ]
       ],
       "shape": {
        "columns": 4,
        "rows": 1
       }
      },
      "text/html": [
       "<div>\n",
       "<style scoped>\n",
       "    .dataframe tbody tr th:only-of-type {\n",
       "        vertical-align: middle;\n",
       "    }\n",
       "\n",
       "    .dataframe tbody tr th {\n",
       "        vertical-align: top;\n",
       "    }\n",
       "\n",
       "    .dataframe thead th {\n",
       "        text-align: right;\n",
       "    }\n",
       "</style>\n",
       "<table border=\"1\" class=\"dataframe\">\n",
       "  <thead>\n",
       "    <tr style=\"text-align: right;\">\n",
       "      <th></th>\n",
       "      <th>accuracy</th>\n",
       "      <th>total_signals</th>\n",
       "      <th>profitable_signals</th>\n",
       "      <th>mean_profit_per_trade</th>\n",
       "    </tr>\n",
       "  </thead>\n",
       "  <tbody>\n",
       "    <tr>\n",
       "      <th>0</th>\n",
       "      <td>0.727273</td>\n",
       "      <td>1</td>\n",
       "      <td>0</td>\n",
       "      <td>NaN</td>\n",
       "    </tr>\n",
       "  </tbody>\n",
       "</table>\n",
       "</div>"
      ],
      "text/plain": [
       "   accuracy  total_signals  profitable_signals  mean_profit_per_trade\n",
       "0  0.727273              1                   0                    NaN"
      ]
     },
     "execution_count": 27,
     "metadata": {},
     "output_type": "execute_result"
    }
   ],
   "source": [
    "summary = {\n",
    "    \"accuracy\": df[\"correct\"].mean(),\n",
    "    \"total_signals\": len(df[df[\"signal\"] != 0]),\n",
    "    \"profitable_signals\": (profits > 0).sum(),\n",
    "    \"mean_profit_per_trade\": profits.mean()\n",
    "}\n",
    "pd.DataFrame([summary])\n"
   ]
  }
 ],
 "metadata": {
  "kernelspec": {
   "display_name": ".venv (3.13.3)",
   "language": "python",
   "name": "python3"
  },
  "language_info": {
   "codemirror_mode": {
    "name": "ipython",
    "version": 3
   },
   "file_extension": ".py",
   "mimetype": "text/x-python",
   "name": "python",
   "nbconvert_exporter": "python",
   "pygments_lexer": "ipython3",
   "version": "3.13.3"
  }
 },
 "nbformat": 4,
 "nbformat_minor": 5
}
