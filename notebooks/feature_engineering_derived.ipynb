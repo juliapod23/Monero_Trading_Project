{
 "cells": [
  {
   "cell_type": "markdown",
   "id": "8ff00299",
   "metadata": {},
   "source": [
    "# Monero Feature Engineering: Derived Indicators"
   ]
  },
  {
   "cell_type": "code",
   "execution_count": 3,
   "id": "21329ea8",
   "metadata": {},
   "outputs": [],
   "source": [
    "import pandas as pd\n",
    "import numpy as np\n",
    "import matplotlib.pyplot as plt\n",
    "from ta.momentum import RSIIndicator\n",
    "from ta.volatility import BollingerBands\n",
    "from ta.trend import SMAIndicator, EMAIndicator\n",
    "from scipy.stats import entropy\n",
    "import os\n"
   ]
  },
  {
   "cell_type": "code",
   "execution_count": 11,
   "id": "edc674b2",
   "metadata": {},
   "outputs": [
    {
     "data": {
      "application/vnd.microsoft.datawrangler.viewer.v0+json": {
       "columns": [
        {
         "name": "index",
         "rawType": "int64",
         "type": "integer"
        },
        {
         "name": "time",
         "rawType": "datetime64[ns]",
         "type": "datetime"
        },
        {
         "name": "open",
         "rawType": "float64",
         "type": "float"
        },
        {
         "name": "high",
         "rawType": "float64",
         "type": "float"
        },
        {
         "name": "low",
         "rawType": "float64",
         "type": "float"
        },
        {
         "name": "close",
         "rawType": "float64",
         "type": "float"
        },
        {
         "name": "vwap",
         "rawType": "float64",
         "type": "float"
        },
        {
         "name": "volume",
         "rawType": "float64",
         "type": "float"
        }
       ],
       "conversionMethod": "pd.DataFrame",
       "ref": "6940bfb6-04eb-4c22-97b1-604e1d10c9b1",
       "rows": [
        [
         "0",
         "2023-05-31 00:00:00",
         "153.08",
         "153.63",
         "145.05",
         "145.99",
         "148.75",
         "6270.25582599"
        ],
        [
         "1",
         "2023-06-01 00:00:00",
         "145.78",
         "148.7",
         "145.5",
         "146.47",
         "146.42",
         "8850.61708687"
        ],
        [
         "2",
         "2023-06-02 00:00:00",
         "146.45",
         "147.5",
         "145.0",
         "146.16",
         "145.83",
         "3407.77530078"
        ],
        [
         "3",
         "2023-06-03 00:00:00",
         "145.91",
         "148.6",
         "145.77",
         "148.47",
         "147.21",
         "3288.39190994"
        ],
        [
         "4",
         "2023-06-04 00:00:00",
         "148.19",
         "150.05",
         "147.95",
         "148.29",
         "148.8",
         "4684.82378679"
        ]
       ],
       "shape": {
        "columns": 7,
        "rows": 5
       }
      },
      "text/html": [
       "<div>\n",
       "<style scoped>\n",
       "    .dataframe tbody tr th:only-of-type {\n",
       "        vertical-align: middle;\n",
       "    }\n",
       "\n",
       "    .dataframe tbody tr th {\n",
       "        vertical-align: top;\n",
       "    }\n",
       "\n",
       "    .dataframe thead th {\n",
       "        text-align: right;\n",
       "    }\n",
       "</style>\n",
       "<table border=\"1\" class=\"dataframe\">\n",
       "  <thead>\n",
       "    <tr style=\"text-align: right;\">\n",
       "      <th></th>\n",
       "      <th>time</th>\n",
       "      <th>open</th>\n",
       "      <th>high</th>\n",
       "      <th>low</th>\n",
       "      <th>close</th>\n",
       "      <th>vwap</th>\n",
       "      <th>volume</th>\n",
       "    </tr>\n",
       "  </thead>\n",
       "  <tbody>\n",
       "    <tr>\n",
       "      <th>0</th>\n",
       "      <td>2023-05-31</td>\n",
       "      <td>153.08</td>\n",
       "      <td>153.63</td>\n",
       "      <td>145.05</td>\n",
       "      <td>145.99</td>\n",
       "      <td>148.75</td>\n",
       "      <td>6270.255826</td>\n",
       "    </tr>\n",
       "    <tr>\n",
       "      <th>1</th>\n",
       "      <td>2023-06-01</td>\n",
       "      <td>145.78</td>\n",
       "      <td>148.70</td>\n",
       "      <td>145.50</td>\n",
       "      <td>146.47</td>\n",
       "      <td>146.42</td>\n",
       "      <td>8850.617087</td>\n",
       "    </tr>\n",
       "    <tr>\n",
       "      <th>2</th>\n",
       "      <td>2023-06-02</td>\n",
       "      <td>146.45</td>\n",
       "      <td>147.50</td>\n",
       "      <td>145.00</td>\n",
       "      <td>146.16</td>\n",
       "      <td>145.83</td>\n",
       "      <td>3407.775301</td>\n",
       "    </tr>\n",
       "    <tr>\n",
       "      <th>3</th>\n",
       "      <td>2023-06-03</td>\n",
       "      <td>145.91</td>\n",
       "      <td>148.60</td>\n",
       "      <td>145.77</td>\n",
       "      <td>148.47</td>\n",
       "      <td>147.21</td>\n",
       "      <td>3288.391910</td>\n",
       "    </tr>\n",
       "    <tr>\n",
       "      <th>4</th>\n",
       "      <td>2023-06-04</td>\n",
       "      <td>148.19</td>\n",
       "      <td>150.05</td>\n",
       "      <td>147.95</td>\n",
       "      <td>148.29</td>\n",
       "      <td>148.80</td>\n",
       "      <td>4684.823787</td>\n",
       "    </tr>\n",
       "  </tbody>\n",
       "</table>\n",
       "</div>"
      ],
      "text/plain": [
       "        time    open    high     low   close    vwap       volume\n",
       "0 2023-05-31  153.08  153.63  145.05  145.99  148.75  6270.255826\n",
       "1 2023-06-01  145.78  148.70  145.50  146.47  146.42  8850.617087\n",
       "2 2023-06-02  146.45  147.50  145.00  146.16  145.83  3407.775301\n",
       "3 2023-06-03  145.91  148.60  145.77  148.47  147.21  3288.391910\n",
       "4 2023-06-04  148.19  150.05  147.95  148.29  148.80  4684.823787"
      ]
     },
     "execution_count": 11,
     "metadata": {},
     "output_type": "execute_result"
    }
   ],
   "source": [
    "input_path = \"../data/raw/kraken_xmr_ohlcv.csv\"\n",
    "output_path = \"../data/processed/xmr_features.csv\"\n",
    "df = pd.read_csv(input_path, parse_dates=[\"time\"])\n",
    "df.sort_values(\"time\", inplace=True)\n",
    "df.head()\n"
   ]
  },
  {
   "cell_type": "code",
   "execution_count": 12,
   "id": "519be4b6",
   "metadata": {},
   "outputs": [
    {
     "data": {
      "application/vnd.microsoft.datawrangler.viewer.v0+json": {
       "columns": [
        {
         "name": "index",
         "rawType": "int64",
         "type": "integer"
        },
        {
         "name": "time",
         "rawType": "datetime64[ns]",
         "type": "datetime"
        },
        {
         "name": "open",
         "rawType": "float64",
         "type": "float"
        },
        {
         "name": "high",
         "rawType": "float64",
         "type": "float"
        },
        {
         "name": "low",
         "rawType": "float64",
         "type": "float"
        },
        {
         "name": "close",
         "rawType": "float64",
         "type": "float"
        },
        {
         "name": "vwap",
         "rawType": "float64",
         "type": "float"
        },
        {
         "name": "volume",
         "rawType": "float64",
         "type": "float"
        },
        {
         "name": "sma_20",
         "rawType": "float64",
         "type": "float"
        },
        {
         "name": "ema_20",
         "rawType": "float64",
         "type": "float"
        },
        {
         "name": "rsi_14",
         "rawType": "float64",
         "type": "float"
        },
        {
         "name": "bb_bbm",
         "rawType": "float64",
         "type": "float"
        },
        {
         "name": "bb_bbh",
         "rawType": "float64",
         "type": "float"
        },
        {
         "name": "bb_bbl",
         "rawType": "float64",
         "type": "float"
        },
        {
         "name": "bb_width",
         "rawType": "float64",
         "type": "float"
        },
        {
         "name": "log_return",
         "rawType": "float64",
         "type": "float"
        },
        {
         "name": "volatility_14",
         "rawType": "float64",
         "type": "float"
        },
        {
         "name": "entropy_14",
         "rawType": "float64",
         "type": "float"
        }
       ],
       "conversionMethod": "pd.DataFrame",
       "ref": "16dd1438-9202-4dd0-a7ef-3db5e8d3de0b",
       "rows": [
        [
         "19",
         "2023-06-19 00:00:00",
         "137.42",
         "139.3",
         "136.3",
         "138.28",
         "137.7",
         "3772.55695329",
         "141.131",
         "139.91145559968646",
         "43.020349059454084",
         "141.131",
         "150.7890782767588",
         "131.4729217232412",
         "19.3161565535176",
         "0.0076222647718821495",
         "0.020492045999438244",
         "1.6731183632847881"
        ],
        [
         "20",
         "2023-06-20 00:00:00",
         "138.11",
         "142.78",
         "137.32",
         "141.85",
         "140.33",
         "4784.56636596",
         "140.924",
         "140.09607887590678",
         "52.0097479139226",
         "140.924",
         "150.33083241054078",
         "131.51716758945923",
         "18.813664821081545",
         "0.025489546201436567",
         "0.018334245262736307",
         "1.9701814403679885"
        ],
        [
         "21",
         "2023-06-21 00:00:00",
         "141.57",
         "145.9",
         "141.18",
         "145.12",
         "143.98",
         "6826.72716519",
         "140.8565",
         "140.57454755439187",
         "58.47241470487186",
         "140.8565",
         "150.12148413382346",
         "131.59151586617656",
         "18.529968267646893",
         "0.022790825111966125",
         "0.01920405729695867",
         "1.8711604147362935"
        ],
        [
         "22",
         "2023-06-22 00:00:00",
         "145.26",
         "153.05",
         "145.19",
         "149.92",
         "148.95",
         "10124.19127218",
         "141.0445",
         "141.4645906444498",
         "65.76120386371602",
         "141.0445",
         "150.8680705830416",
         "131.2209294169584",
         "19.647141166083202",
         "0.03254083212328557",
         "0.02031066680579776",
         "1.9459101494345616"
        ],
        [
         "23",
         "2023-06-23 00:00:00",
         "149.92",
         "155.46",
         "149.04",
         "154.53",
         "151.88",
         "7365.64243983",
         "141.3475",
         "142.70891534497838",
         "71.02179511983672",
         "141.3475",
         "152.369270955704",
         "130.325729044296",
         "22.043541911408",
         "0.030286433755491622",
         "0.021527560067747586",
         "1.970181440402676"
        ]
       ],
       "shape": {
        "columns": 17,
        "rows": 5
       }
      },
      "text/html": [
       "<div>\n",
       "<style scoped>\n",
       "    .dataframe tbody tr th:only-of-type {\n",
       "        vertical-align: middle;\n",
       "    }\n",
       "\n",
       "    .dataframe tbody tr th {\n",
       "        vertical-align: top;\n",
       "    }\n",
       "\n",
       "    .dataframe thead th {\n",
       "        text-align: right;\n",
       "    }\n",
       "</style>\n",
       "<table border=\"1\" class=\"dataframe\">\n",
       "  <thead>\n",
       "    <tr style=\"text-align: right;\">\n",
       "      <th></th>\n",
       "      <th>time</th>\n",
       "      <th>open</th>\n",
       "      <th>high</th>\n",
       "      <th>low</th>\n",
       "      <th>close</th>\n",
       "      <th>vwap</th>\n",
       "      <th>volume</th>\n",
       "      <th>sma_20</th>\n",
       "      <th>ema_20</th>\n",
       "      <th>rsi_14</th>\n",
       "      <th>bb_bbm</th>\n",
       "      <th>bb_bbh</th>\n",
       "      <th>bb_bbl</th>\n",
       "      <th>bb_width</th>\n",
       "      <th>log_return</th>\n",
       "      <th>volatility_14</th>\n",
       "      <th>entropy_14</th>\n",
       "    </tr>\n",
       "  </thead>\n",
       "  <tbody>\n",
       "    <tr>\n",
       "      <th>19</th>\n",
       "      <td>2023-06-19</td>\n",
       "      <td>137.42</td>\n",
       "      <td>139.30</td>\n",
       "      <td>136.30</td>\n",
       "      <td>138.28</td>\n",
       "      <td>137.70</td>\n",
       "      <td>3772.556953</td>\n",
       "      <td>141.1310</td>\n",
       "      <td>139.911456</td>\n",
       "      <td>43.020349</td>\n",
       "      <td>141.1310</td>\n",
       "      <td>150.789078</td>\n",
       "      <td>131.472922</td>\n",
       "      <td>19.316157</td>\n",
       "      <td>0.007622</td>\n",
       "      <td>0.020492</td>\n",
       "      <td>1.673118</td>\n",
       "    </tr>\n",
       "    <tr>\n",
       "      <th>20</th>\n",
       "      <td>2023-06-20</td>\n",
       "      <td>138.11</td>\n",
       "      <td>142.78</td>\n",
       "      <td>137.32</td>\n",
       "      <td>141.85</td>\n",
       "      <td>140.33</td>\n",
       "      <td>4784.566366</td>\n",
       "      <td>140.9240</td>\n",
       "      <td>140.096079</td>\n",
       "      <td>52.009748</td>\n",
       "      <td>140.9240</td>\n",
       "      <td>150.330832</td>\n",
       "      <td>131.517168</td>\n",
       "      <td>18.813665</td>\n",
       "      <td>0.025490</td>\n",
       "      <td>0.018334</td>\n",
       "      <td>1.970181</td>\n",
       "    </tr>\n",
       "    <tr>\n",
       "      <th>21</th>\n",
       "      <td>2023-06-21</td>\n",
       "      <td>141.57</td>\n",
       "      <td>145.90</td>\n",
       "      <td>141.18</td>\n",
       "      <td>145.12</td>\n",
       "      <td>143.98</td>\n",
       "      <td>6826.727165</td>\n",
       "      <td>140.8565</td>\n",
       "      <td>140.574548</td>\n",
       "      <td>58.472415</td>\n",
       "      <td>140.8565</td>\n",
       "      <td>150.121484</td>\n",
       "      <td>131.591516</td>\n",
       "      <td>18.529968</td>\n",
       "      <td>0.022791</td>\n",
       "      <td>0.019204</td>\n",
       "      <td>1.871160</td>\n",
       "    </tr>\n",
       "    <tr>\n",
       "      <th>22</th>\n",
       "      <td>2023-06-22</td>\n",
       "      <td>145.26</td>\n",
       "      <td>153.05</td>\n",
       "      <td>145.19</td>\n",
       "      <td>149.92</td>\n",
       "      <td>148.95</td>\n",
       "      <td>10124.191272</td>\n",
       "      <td>141.0445</td>\n",
       "      <td>141.464591</td>\n",
       "      <td>65.761204</td>\n",
       "      <td>141.0445</td>\n",
       "      <td>150.868071</td>\n",
       "      <td>131.220929</td>\n",
       "      <td>19.647141</td>\n",
       "      <td>0.032541</td>\n",
       "      <td>0.020311</td>\n",
       "      <td>1.945910</td>\n",
       "    </tr>\n",
       "    <tr>\n",
       "      <th>23</th>\n",
       "      <td>2023-06-23</td>\n",
       "      <td>149.92</td>\n",
       "      <td>155.46</td>\n",
       "      <td>149.04</td>\n",
       "      <td>154.53</td>\n",
       "      <td>151.88</td>\n",
       "      <td>7365.642440</td>\n",
       "      <td>141.3475</td>\n",
       "      <td>142.708915</td>\n",
       "      <td>71.021795</td>\n",
       "      <td>141.3475</td>\n",
       "      <td>152.369271</td>\n",
       "      <td>130.325729</td>\n",
       "      <td>22.043542</td>\n",
       "      <td>0.030286</td>\n",
       "      <td>0.021528</td>\n",
       "      <td>1.970181</td>\n",
       "    </tr>\n",
       "  </tbody>\n",
       "</table>\n",
       "</div>"
      ],
      "text/plain": [
       "         time    open    high     low   close    vwap        volume    sma_20  \\\n",
       "19 2023-06-19  137.42  139.30  136.30  138.28  137.70   3772.556953  141.1310   \n",
       "20 2023-06-20  138.11  142.78  137.32  141.85  140.33   4784.566366  140.9240   \n",
       "21 2023-06-21  141.57  145.90  141.18  145.12  143.98   6826.727165  140.8565   \n",
       "22 2023-06-22  145.26  153.05  145.19  149.92  148.95  10124.191272  141.0445   \n",
       "23 2023-06-23  149.92  155.46  149.04  154.53  151.88   7365.642440  141.3475   \n",
       "\n",
       "        ema_20     rsi_14    bb_bbm      bb_bbh      bb_bbl   bb_width  \\\n",
       "19  139.911456  43.020349  141.1310  150.789078  131.472922  19.316157   \n",
       "20  140.096079  52.009748  140.9240  150.330832  131.517168  18.813665   \n",
       "21  140.574548  58.472415  140.8565  150.121484  131.591516  18.529968   \n",
       "22  141.464591  65.761204  141.0445  150.868071  131.220929  19.647141   \n",
       "23  142.708915  71.021795  141.3475  152.369271  130.325729  22.043542   \n",
       "\n",
       "    log_return  volatility_14  entropy_14  \n",
       "19    0.007622       0.020492    1.673118  \n",
       "20    0.025490       0.018334    1.970181  \n",
       "21    0.022791       0.019204    1.871160  \n",
       "22    0.032541       0.020311    1.945910  \n",
       "23    0.030286       0.021528    1.970181  "
      ]
     },
     "execution_count": 12,
     "metadata": {},
     "output_type": "execute_result"
    }
   ],
   "source": [
    "# --- Moving Averages ---\n",
    "df[\"sma_20\"] = SMAIndicator(close=df[\"close\"], window=20).sma_indicator()\n",
    "df[\"ema_20\"] = EMAIndicator(close=df[\"close\"], window=20).ema_indicator()\n",
    "\n",
    "# --- RSI ---\n",
    "df[\"rsi_14\"] = RSIIndicator(close=df[\"close\"], window=14).rsi()\n",
    "\n",
    "# --- Bollinger Bands ---\n",
    "bb = BollingerBands(close=df[\"close\"], window=20, window_dev=2)\n",
    "df[\"bb_bbm\"] = bb.bollinger_mavg()\n",
    "df[\"bb_bbh\"] = bb.bollinger_hband()\n",
    "df[\"bb_bbl\"] = bb.bollinger_lband()\n",
    "df[\"bb_width\"] = df[\"bb_bbh\"] - df[\"bb_bbl\"]\n",
    "\n",
    "# --- Log Returns + Volatility ---\n",
    "df[\"log_return\"] = np.log(df[\"close\"] / df[\"close\"].shift(1))\n",
    "df[\"volatility_14\"] = df[\"log_return\"].rolling(window=14).std()\n",
    "\n",
    "# --- Entropy ---\n",
    "def calc_entropy(series, bins=10):\n",
    "    hist, _ = np.histogram(series, bins=bins, density=True)\n",
    "    return entropy(hist + 1e-9)\n",
    "\n",
    "df[\"entropy_14\"] = df[\"log_return\"].rolling(window=14).apply(calc_entropy, raw=False)\n",
    "df.dropna(inplace=True)\n",
    "df.head()\n"
   ]
  },
  {
   "cell_type": "code",
   "execution_count": 13,
   "id": "ffdcc9c1",
   "metadata": {},
   "outputs": [
    {
     "name": "stdout",
     "output_type": "stream",
     "text": [
      "Feature file saved to: ../data/processed/xmr_features.csv\n"
     ]
    }
   ],
   "source": [
    "os.makedirs(os.path.dirname(output_path), exist_ok=True)\n",
    "df.to_csv(output_path, index=False)\n",
    "print(f\"Feature file saved to: {output_path}\")\n"
   ]
  },
  {
   "cell_type": "code",
   "execution_count": 10,
   "id": "c37575a4",
   "metadata": {},
   "outputs": [
    {
     "data": {
      "image/png": "[encoded data removed]",
      "text/plain": [
       "<Figure size 1400x600 with 1 Axes>"
      ]
     },
     "metadata": {},
     "output_type": "display_data"
    }
   ],
   "source": [
    "plt.figure(figsize=(14, 6))\n",
    "plt.plot(df[\"time\"], df[\"close\"], label=\"Price\", alpha=0.5)\n",
    "plt.plot(df[\"time\"], df[\"sma_20\"], label=\"SMA 20\")\n",
    "plt.plot(df[\"time\"], df[\"ema_20\"], label=\"EMA 20\")\n",
    "plt.title(\"Monero Price with SMA & EMA\")\n",
    "plt.legend()\n",
    "plt.grid(True)\n",
    "plt.show()\n"
   ]
  }
 ],
 "metadata": {
  "kernelspec": {
   "display_name": ".venv (3.13.3)",
   "language": "python",
   "name": "python3"
  },
  "language_info": {
   "codemirror_mode": {
    "name": "ipython",
    "version": 3
   },
   "file_extension": ".py",
   "mimetype": "text/x-python",
   "name": "python",
   "nbconvert_exporter": "python",
   "pygments_lexer": "ipython3",
   "version": "3.13.3"
  }
 },
 "nbformat": 4,
 "nbformat_minor": 5
}
